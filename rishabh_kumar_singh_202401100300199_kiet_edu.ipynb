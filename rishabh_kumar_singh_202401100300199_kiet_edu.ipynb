{
  "nbformat": 4,
  "nbformat_minor": 0,
  "metadata": {
    "colab": {
      "provenance": []
    },
    "kernelspec": {
      "name": "python3",
      "display_name": "Python 3"
    },
    "language_info": {
      "name": "python"
    }
  },
  "cells": [
    {
      "cell_type": "code",
      "source": [
        "# Function to check if placing a number in the given cell is valid according to Sudoku rules\n",
        "def is_valid(board, row, col, num):\n",
        "    # Check if the number is already present in the current row or column\n",
        "    for i in range(9):\n",
        "        if board[row][i] == num or board[i][col] == num:\n",
        "            return False  # If found, return False\n",
        "\n",
        "    # Check the 3x3 grid (sub-grid) where the cell is located\n",
        "    start_row, start_col = 3 * (row // 3), 3 * (col // 3)\n",
        "    for i in range(3):\n",
        "        for j in range(3):\n",
        "            if board[start_row + i][start_col + j] == num:\n",
        "                return False  # If the number is found in the 3x3 sub-grid, return False\n",
        "\n",
        "    return True  # If no conflicts found, return True\n",
        "\n",
        "# Function to solve the Sudoku puzzle using backtracking\n",
        "def solve_sudoku(board):\n",
        "    # Iterate through each cell in the 9x9 grid\n",
        "    for row in range(9):\n",
        "        for col in range(9):\n",
        "            # Check if the current cell is empty (0 means empty)\n",
        "            if board[row][col] == 0:\n",
        "                # Try numbers from 1 to 9 for the empty cell\n",
        "                for num in range(1, 10):\n",
        "                    # If the number is valid for the current cell, place it\n",
        "                    if is_valid(board, row, col, num):\n",
        "                        board[row][col] = num\n",
        "\n",
        "                        # Recursively attempt to solve the rest of the board\n",
        "                        if solve_sudoku(board):\n",
        "                            return True  # If the puzzle is solved, return True\n",
        "\n",
        "                        # If placing num didn't work, reset the cell and try the next number\n",
        "                        board[row][col] = 0\n",
        "                return False  # If no number works for this cell, return False (backtrack)\n",
        "    return True  # If all cells are filled, the puzzle is solved\n",
        "\n",
        "# Function to print the Sudoku board in a readable format\n",
        "def print_board(board):\n",
        "    # Print each row of the board, replacing 0 (empty cells) with '.'\n",
        "    for row in board:\n",
        "        print(\" \".join(str(num) if num != 0 else '.' for num in row))\n",
        "\n",
        "# Example Sudoku Board (0 represents empty cells)\n",
        "sudoku_board = [\n",
        "    [5, 3, 0, 0, 7, 0, 0, 0, 0],\n",
        "    [6, 0, 0, 1, 9, 5, 0, 0, 0],\n",
        "    [0, 9, 8, 0, 0, 0, 0, 6, 0],\n",
        "    [8, 0, 0, 0, 6, 0, 0, 0, 3],\n",
        "    [4, 0, 0, 8, 0, 3, 0, 0, 1],\n",
        "    [7, 0, 0, 0, 2, 0, 0, 0, 6],\n",
        "    [0, 6, 0, 0, 0, 0, 2, 8, 0],\n",
        "    [0, 0, 0, 4, 1, 9, 0, 0, 5],\n",
        "    [0, 0, 0, 0, 8, 0, 0, 7, 9]\n",
        "]\n",
        "\n",
        "# Print the original Sudoku board\n",
        "print(\"Original Sudoku Board:\")\n",
        "print_board(sudoku_board)\n",
        "\n",
        "# Attempt to solve the Sudoku puzzle\n",
        "if solve_sudoku(sudoku_board):\n",
        "    print(\"\\nSolved Sudoku Board:\")\n",
        "    print_board(sudoku_board)  # If solved, print the solved board\n",
        "else:\n",
        "    print(\"\\nNo solution exists!\")  # If no solution is found, print an error message\n"
      ],
      "metadata": {
        "colab": {
          "base_uri": "https://localhost:8080/"
        },
        "id": "S15cR-3HjOCP",
        "outputId": "b60e1a7b-b1d6-4528-b714-b065631d4a7b"
      },
      "execution_count": 4,
      "outputs": [
        {
          "output_type": "stream",
          "name": "stdout",
          "text": [
            "Original Sudoku Board:\n",
            "5 3 . . 7 . . . .\n",
            "6 . . 1 9 5 . . .\n",
            ". 9 8 . . . . 6 .\n",
            "8 . . . 6 . . . 3\n",
            "4 . . 8 . 3 . . 1\n",
            "7 . . . 2 . . . 6\n",
            ". 6 . . . . 2 8 .\n",
            ". . . 4 1 9 . . 5\n",
            ". . . . 8 . . 7 9\n",
            "\n",
            "Solved Sudoku Board:\n",
            "5 3 4 6 7 8 9 1 2\n",
            "6 7 2 1 9 5 3 4 8\n",
            "1 9 8 3 4 2 5 6 7\n",
            "8 5 9 7 6 1 4 2 3\n",
            "4 2 6 8 5 3 7 9 1\n",
            "7 1 3 9 2 4 8 5 6\n",
            "9 6 1 5 3 7 2 8 4\n",
            "2 8 7 4 1 9 6 3 5\n",
            "3 4 5 2 8 6 1 7 9\n"
          ]
        }
      ]
    }
  ]
}